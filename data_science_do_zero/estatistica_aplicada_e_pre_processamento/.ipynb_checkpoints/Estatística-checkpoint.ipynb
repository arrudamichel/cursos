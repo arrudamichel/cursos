{
 "cells": [
  {
   "cell_type": "markdown",
   "id": "aa34137b",
   "metadata": {},
   "source": [
    "## Introdução a Estatística"
   ]
  },
  {
   "cell_type": "markdown",
   "id": "c7ef8409",
   "metadata": {
    "heading_collapsed": true
   },
   "source": [
    "#### O que é?"
   ]
  },
  {
   "cell_type": "markdown",
   "id": "3df69ef3",
   "metadata": {
    "hidden": true
   },
   "source": [
    "É um conjunto de **técnicas** que permite de forma sistemática **organizar, descrever, analisar e interpretar** dados advindos de diversas origens, a fim de extrair deles **conclusões**."
   ]
  },
  {
   "cell_type": "markdown",
   "id": "d9721a6a",
   "metadata": {
    "heading_collapsed": true
   },
   "source": [
    "#### Divisões da estatística"
   ]
  },
  {
   "cell_type": "markdown",
   "id": "34a1cc1f",
   "metadata": {
    "heading_collapsed": true,
    "hidden": true
   },
   "source": [
    "##### Estatística Descritiva"
   ]
  },
  {
   "cell_type": "markdown",
   "id": "5bd53ce5",
   "metadata": {
    "hidden": true
   },
   "source": [
    "Ramo que se ocupa em **organizar e descrever** os dados, que podem ser expressos em tabelas e gráficos"
   ]
  },
  {
   "cell_type": "markdown",
   "id": "b68018df",
   "metadata": {
    "hidden": true
   },
   "source": [
    "É tudo que é feito para entender padrões nos dados! "
   ]
  },
  {
   "cell_type": "markdown",
   "id": "8509eaad",
   "metadata": {
    "hidden": true
   },
   "source": [
    "###### Medidas de Posição ou Tendência Central"
   ]
  },
  {
   "cell_type": "markdown",
   "id": "29aac5eb",
   "metadata": {
    "hidden": true
   },
   "source": [
    "Grau de concentração dos dados"
   ]
  },
  {
   "cell_type": "markdown",
   "id": "63828b8c",
   "metadata": {
    "hidden": true
   },
   "source": [
    "Ex: Média, Moda, Mediana, Medidas Separatrizes"
   ]
  },
  {
   "cell_type": "markdown",
   "id": "1a8b31dd",
   "metadata": {
    "hidden": true
   },
   "source": [
    "###### Medidas de Dispersão"
   ]
  },
  {
   "cell_type": "markdown",
   "id": "b7368f36",
   "metadata": {
    "ExecuteTime": {
     "end_time": "2021-06-28T14:31:43.272251Z",
     "start_time": "2021-06-28T14:31:43.261530Z"
    },
    "hidden": true
   },
   "source": [
    "Grau de dispersão dos dados em torno de uma medida de posição."
   ]
  },
  {
   "cell_type": "markdown",
   "id": "e2d15422",
   "metadata": {
    "ExecuteTime": {
     "end_time": "2021-06-28T14:32:00.383495Z",
     "start_time": "2021-06-28T14:32:00.380006Z"
    },
    "hidden": true
   },
   "source": [
    "Ex: Desvio Padrão, Variância e Coeficiende de Variação"
   ]
  },
  {
   "cell_type": "markdown",
   "id": "9ea1ac90",
   "metadata": {
    "hidden": true
   },
   "source": [
    "Quão disperso está o dado com relação ao valor médio? "
   ]
  },
  {
   "cell_type": "markdown",
   "id": "0dfed2c2",
   "metadata": {
    "heading_collapsed": true,
    "hidden": true
   },
   "source": [
    "##### Probabilidade"
   ]
  },
  {
   "cell_type": "markdown",
   "id": "c6a1a8ca",
   "metadata": {
    "hidden": true
   },
   "source": [
    "Nos permite descrever os fenômenos aleatórios, ou seja, aqueles em que está presente a incerteza"
   ]
  },
  {
   "cell_type": "markdown",
   "id": "8c35b2fa",
   "metadata": {
    "hidden": true
   },
   "source": [
    "Qual a probabilidade de chuver amanhã? Se toma uma decisão a partir da resposta. Usamos guarda-chuva? saímos de casa? "
   ]
  },
  {
   "cell_type": "markdown",
   "id": "32f11c80",
   "metadata": {
    "heading_collapsed": true,
    "hidden": true
   },
   "source": [
    "##### Amostragem"
   ]
  },
  {
   "cell_type": "markdown",
   "id": "ffdd30ac",
   "metadata": {
    "hidden": true
   },
   "source": [
    "Conjunto de **técnicas** para **selecionar** uma **amostra** da população, com o **objetivo** de obter **informações** de **uma ou mais** características de **interesse**, as quais permitam chegar a **conclusões** a respeito dos **parâmetros**."
   ]
  },
  {
   "cell_type": "markdown",
   "id": "da8258b4",
   "metadata": {
    "hidden": true
   },
   "source": [
    "**População:** É a coleção de todos os indivíduos que possuem determinadas características, as quais estamos interessados em estudar.\n",
    "\n",
    "Representamos por N = Tamanho populacional"
   ]
  },
  {
   "cell_type": "markdown",
   "id": "b284e92a",
   "metadata": {
    "hidden": true
   },
   "source": [
    "**Amostra**: É um subconjunto da população, uma parte dos indivíduos que possuem determinadas características.\n",
    "\n",
    "Representamos por n = Tamanho amostral"
   ]
  },
  {
   "cell_type": "markdown",
   "id": "bc9b8a9e",
   "metadata": {
    "heading_collapsed": true,
    "hidden": true
   },
   "source": [
    "##### Inferência Estatística"
   ]
  },
  {
   "cell_type": "markdown",
   "id": "c084223d",
   "metadata": {
    "hidden": true
   },
   "source": [
    "É o conjunto de técnicas que possibilitam a **extrapolação**, a um grande conjunto de dados, das informações e conclusões obtidas a partir da amostra."
   ]
  },
  {
   "cell_type": "markdown",
   "id": "ab3b10b6",
   "metadata": {
    "hidden": true
   },
   "source": [
    "Ex: Queremos medir a média da altura dos alunos usando uma amostra, o que garante a qualidade da estimativa? A inferência estatística"
   ]
  },
  {
   "cell_type": "markdown",
   "id": "cac550db",
   "metadata": {
    "heading_collapsed": true
   },
   "source": [
    "#### O que é Data Science?"
   ]
  },
  {
   "cell_type": "markdown",
   "id": "c50bc3aa",
   "metadata": {
    "ExecuteTime": {
     "end_time": "2021-06-28T14:46:17.617848Z",
     "start_time": "2021-06-28T14:46:17.610509Z"
    },
    "hidden": true
   },
   "source": [
    "Área gigantesca que engloba estatística, TI e Negócio"
   ]
  },
  {
   "cell_type": "markdown",
   "id": "663dcec2",
   "metadata": {
    "heading_collapsed": true
   },
   "source": [
    "#### Etapas da análise estatística"
   ]
  },
  {
   "cell_type": "markdown",
   "id": "86c8acd8",
   "metadata": {
    "hidden": true
   },
   "source": [
    "![](img/analise_estatistica.png)"
   ]
  },
  {
   "cell_type": "markdown",
   "id": "4efafd74",
   "metadata": {},
   "source": [
    "#### Conceitos Básicos"
   ]
  },
  {
   "cell_type": "markdown",
   "id": "e301a0b9",
   "metadata": {},
   "source": [
    "- Censo: Exame de todos os elementos da população\n",
    "- Dados Brutos: São dados na sua forma mais primitiva, desprovidos de ordenação, assim que coletados.\n",
    "- Roi Estatístico: São dados bru"
   ]
  }
 ],
 "metadata": {
  "kernelspec": {
   "display_name": "Python 3",
   "language": "python",
   "name": "python3"
  },
  "language_info": {
   "codemirror_mode": {
    "name": "ipython",
    "version": 3
   },
   "file_extension": ".py",
   "mimetype": "text/x-python",
   "name": "python",
   "nbconvert_exporter": "python",
   "pygments_lexer": "ipython3",
   "version": "3.8.5"
  },
  "varInspector": {
   "cols": {
    "lenName": 16,
    "lenType": 16,
    "lenVar": 40
   },
   "kernels_config": {
    "python": {
     "delete_cmd_postfix": "",
     "delete_cmd_prefix": "del ",
     "library": "var_list.py",
     "varRefreshCmd": "print(var_dic_list())"
    },
    "r": {
     "delete_cmd_postfix": ") ",
     "delete_cmd_prefix": "rm(",
     "library": "var_list.r",
     "varRefreshCmd": "cat(var_dic_list()) "
    }
   },
   "types_to_exclude": [
    "module",
    "function",
    "builtin_function_or_method",
    "instance",
    "_Feature"
   ],
   "window_display": false
  }
 },
 "nbformat": 4,
 "nbformat_minor": 5
}
