{
 "cells": [
  {
   "cell_type": "markdown",
   "id": "972772fd",
   "metadata": {},
   "source": [
    "## Numpy"
   ]
  },
  {
   "cell_type": "markdown",
   "id": "a5feb2dc",
   "metadata": {
    "heading_collapsed": true
   },
   "source": [
    "### Numpy Básico"
   ]
  },
  {
   "cell_type": "markdown",
   "id": "b11c7b27",
   "metadata": {
    "heading_collapsed": true,
    "hidden": true
   },
   "source": [
    "#### Importando biblioteca"
   ]
  },
  {
   "cell_type": "code",
   "execution_count": 1,
   "id": "9405af93",
   "metadata": {
    "ExecuteTime": {
     "end_time": "2021-06-27T20:50:35.187101Z",
     "start_time": "2021-06-27T20:50:35.180223Z"
    },
    "hidden": true
   },
   "outputs": [],
   "source": [
    "import numpy as np"
   ]
  },
  {
   "cell_type": "markdown",
   "id": "b6e0550d",
   "metadata": {
    "heading_collapsed": true,
    "hidden": true
   },
   "source": [
    "#### Criando array de 1 dimensão"
   ]
  },
  {
   "cell_type": "code",
   "execution_count": 5,
   "id": "65e736a7",
   "metadata": {
    "ExecuteTime": {
     "end_time": "2021-06-27T20:51:44.704331Z",
     "start_time": "2021-06-27T20:51:44.697767Z"
    },
    "hidden": true
   },
   "outputs": [
    {
     "data": {
      "text/plain": [
       "array([1, 2, 3, 4])"
      ]
     },
     "execution_count": 5,
     "metadata": {},
     "output_type": "execute_result"
    }
   ],
   "source": [
    "one_dim = np.array([1,2,3,4])\n",
    "one_dim"
   ]
  },
  {
   "cell_type": "markdown",
   "id": "7274bf5b",
   "metadata": {
    "heading_collapsed": true,
    "hidden": true
   },
   "source": [
    "#### Quantidade de dimensões"
   ]
  },
  {
   "cell_type": "code",
   "execution_count": 6,
   "id": "f39a4a80",
   "metadata": {
    "ExecuteTime": {
     "end_time": "2021-06-27T20:52:01.362646Z",
     "start_time": "2021-06-27T20:52:01.351520Z"
    },
    "hidden": true
   },
   "outputs": [
    {
     "data": {
      "text/plain": [
       "1"
      ]
     },
     "execution_count": 6,
     "metadata": {},
     "output_type": "execute_result"
    }
   ],
   "source": [
    "one_dim.ndim"
   ]
  },
  {
   "cell_type": "markdown",
   "id": "ae4f00fb",
   "metadata": {
    "heading_collapsed": true,
    "hidden": true
   },
   "source": [
    "#### Criando array de 2 dimensões"
   ]
  },
  {
   "cell_type": "code",
   "execution_count": 8,
   "id": "949b94c7",
   "metadata": {
    "ExecuteTime": {
     "end_time": "2021-06-27T20:54:52.526042Z",
     "start_time": "2021-06-27T20:54:52.514789Z"
    },
    "hidden": true
   },
   "outputs": [
    {
     "data": {
      "text/plain": [
       "array([[1, 2, 3],\n",
       "       [4, 5, 6]])"
      ]
     },
     "execution_count": 8,
     "metadata": {},
     "output_type": "execute_result"
    }
   ],
   "source": [
    "two_dim = np.array([(1,2,3),(4,5,6)])\n",
    "two_dim"
   ]
  },
  {
   "cell_type": "markdown",
   "id": "4fdaa714",
   "metadata": {
    "heading_collapsed": true,
    "hidden": true
   },
   "source": [
    "#### Criar array com números aleatórios"
   ]
  },
  {
   "cell_type": "markdown",
   "id": "0914e107",
   "metadata": {
    "hidden": true
   },
   "source": [
    "Array de 5 linhas e 2 dimensões"
   ]
  },
  {
   "cell_type": "code",
   "execution_count": 9,
   "id": "6c142733",
   "metadata": {
    "ExecuteTime": {
     "end_time": "2021-06-27T20:56:44.820488Z",
     "start_time": "2021-06-27T20:56:44.816380Z"
    },
    "hidden": true
   },
   "outputs": [
    {
     "data": {
      "text/plain": [
       "array([[0.20798251, 0.98538158],\n",
       "       [0.90839397, 0.38614722],\n",
       "       [0.81275494, 0.19543528],\n",
       "       [0.99174359, 0.88692654],\n",
       "       [0.70128123, 0.60443651]])"
      ]
     },
     "execution_count": 9,
     "metadata": {},
     "output_type": "execute_result"
    }
   ],
   "source": [
    "np.random.random((5,2))"
   ]
  },
  {
   "cell_type": "markdown",
   "id": "172e53ba",
   "metadata": {
    "heading_collapsed": true,
    "hidden": true
   },
   "source": [
    "#### Criar um array com valores esparsos esparsos iniciando com 10, menor que 50 e incrementando de 5 em 5"
   ]
  },
  {
   "cell_type": "code",
   "execution_count": 10,
   "id": "17268248",
   "metadata": {
    "ExecuteTime": {
     "end_time": "2021-06-27T20:58:28.295574Z",
     "start_time": "2021-06-27T20:58:28.289135Z"
    },
    "hidden": true
   },
   "outputs": [
    {
     "data": {
      "text/plain": [
       "array([10, 15, 20, 25, 30, 35, 40, 45])"
      ]
     },
     "execution_count": 10,
     "metadata": {},
     "output_type": "execute_result"
    }
   ],
   "source": [
    "np.arange(10, 50, 5)"
   ]
  },
  {
   "cell_type": "markdown",
   "id": "898b97ec",
   "metadata": {
    "heading_collapsed": true,
    "hidden": true
   },
   "source": [
    "#### Criar um array linear de 0 a 2 de no máximo 9 elementos"
   ]
  },
  {
   "cell_type": "code",
   "execution_count": 16,
   "id": "05f424fb",
   "metadata": {
    "ExecuteTime": {
     "end_time": "2021-06-27T20:59:26.808454Z",
     "start_time": "2021-06-27T20:59:26.804340Z"
    },
    "hidden": true
   },
   "outputs": [
    {
     "data": {
      "text/plain": [
       "array([0.  , 0.25, 0.5 , 0.75, 1.  , 1.25, 1.5 , 1.75, 2.  ])"
      ]
     },
     "execution_count": 16,
     "metadata": {},
     "output_type": "execute_result"
    }
   ],
   "source": [
    "np.linspace(0, 2, 9)"
   ]
  },
  {
   "cell_type": "markdown",
   "id": "e015ce99",
   "metadata": {
    "heading_collapsed": true,
    "hidden": true
   },
   "source": [
    "#### Criar um array de zeros"
   ]
  },
  {
   "cell_type": "code",
   "execution_count": 19,
   "id": "c380218e",
   "metadata": {
    "ExecuteTime": {
     "end_time": "2021-06-27T21:01:11.459213Z",
     "start_time": "2021-06-27T21:01:11.450647Z"
    },
    "hidden": true
   },
   "outputs": [
    {
     "data": {
      "text/plain": [
       "array([[0., 0., 0., 0.],\n",
       "       [0., 0., 0., 0.],\n",
       "       [0., 0., 0., 0.]])"
      ]
     },
     "execution_count": 19,
     "metadata": {},
     "output_type": "execute_result"
    }
   ],
   "source": [
    "# 3 rows x 4 columns\n",
    "np.zeros((3, 4))"
   ]
  },
  {
   "cell_type": "markdown",
   "id": "a3fe970f",
   "metadata": {
    "heading_collapsed": true
   },
   "source": [
    "### Numpy Arrays vs Listas"
   ]
  },
  {
   "cell_type": "markdown",
   "id": "91ae1a81",
   "metadata": {
    "hidden": true
   },
   "source": [
    "- Arrays Numpy permitem fazermos operações em **arrays inteiros** de forma rápida\n",
    "- Listas não permitem operações em todos os elementos da lista. Para operações em todos os elementos é preciso iterar sobre toda a lista.\n",
    "- Listas em Python armazenam diferentes tipos de objetos.\n",
    "- Arrays Numpy consideram todos os elementos de tipos distintos como strings. "
   ]
  },
  {
   "cell_type": "markdown",
   "id": "6b73139e",
   "metadata": {
    "heading_collapsed": true,
    "hidden": true
   },
   "source": [
    "#### Criando listas Python"
   ]
  },
  {
   "cell_type": "code",
   "execution_count": 20,
   "id": "f6294b31",
   "metadata": {
    "ExecuteTime": {
     "end_time": "2021-06-27T21:07:11.940017Z",
     "start_time": "2021-06-27T21:07:11.933677Z"
    },
    "hidden": true
   },
   "outputs": [],
   "source": [
    "lista = [1, 2, 3]"
   ]
  },
  {
   "cell_type": "markdown",
   "id": "1e756acb",
   "metadata": {
    "heading_collapsed": true,
    "hidden": true
   },
   "source": [
    "#### Multiplicar valores da lista por 2"
   ]
  },
  {
   "cell_type": "code",
   "execution_count": 21,
   "id": "0fdfc03b",
   "metadata": {
    "ExecuteTime": {
     "end_time": "2021-06-27T21:07:19.479926Z",
     "start_time": "2021-06-27T21:07:19.470114Z"
    },
    "hidden": true
   },
   "outputs": [
    {
     "data": {
      "text/plain": [
       "[1, 2, 3, 1, 2, 3]"
      ]
     },
     "execution_count": 21,
     "metadata": {},
     "output_type": "execute_result"
    }
   ],
   "source": [
    "lista * 2"
   ]
  },
  {
   "cell_type": "markdown",
   "id": "89700223",
   "metadata": {
    "heading_collapsed": true,
    "hidden": true
   },
   "source": [
    "#### Transforme a variável lista em um array Numpy"
   ]
  },
  {
   "cell_type": "code",
   "execution_count": 22,
   "id": "2df9aadd",
   "metadata": {
    "ExecuteTime": {
     "end_time": "2021-06-27T21:07:34.290165Z",
     "start_time": "2021-06-27T21:07:34.285699Z"
    },
    "hidden": true
   },
   "outputs": [],
   "source": [
    "lista = np.array(lista)"
   ]
  },
  {
   "cell_type": "code",
   "execution_count": 23,
   "id": "b28eba4b",
   "metadata": {
    "ExecuteTime": {
     "end_time": "2021-06-27T21:07:52.218462Z",
     "start_time": "2021-06-27T21:07:52.209103Z"
    },
    "hidden": true
   },
   "outputs": [
    {
     "data": {
      "text/plain": [
       "numpy.ndarray"
      ]
     },
     "execution_count": 23,
     "metadata": {},
     "output_type": "execute_result"
    }
   ],
   "source": [
    "type(lista)"
   ]
  },
  {
   "cell_type": "markdown",
   "id": "df0b922b",
   "metadata": {
    "heading_collapsed": true,
    "hidden": true
   },
   "source": [
    "#### Multiplicando cada item do array numpy"
   ]
  },
  {
   "cell_type": "code",
   "execution_count": 24,
   "id": "3dbf655b",
   "metadata": {
    "ExecuteTime": {
     "end_time": "2021-06-27T21:08:46.661309Z",
     "start_time": "2021-06-27T21:08:46.655384Z"
    },
    "hidden": true
   },
   "outputs": [
    {
     "data": {
      "text/plain": [
       "array([2, 4, 6])"
      ]
     },
     "execution_count": 24,
     "metadata": {},
     "output_type": "execute_result"
    }
   ],
   "source": [
    "lista * 2"
   ]
  },
  {
   "cell_type": "markdown",
   "id": "1dfb5cc2",
   "metadata": {
    "heading_collapsed": true,
    "hidden": true
   },
   "source": [
    "#### Exemplo: Calcular IMC de pessoas"
   ]
  },
  {
   "cell_type": "code",
   "execution_count": 26,
   "id": "a57f032b",
   "metadata": {
    "ExecuteTime": {
     "end_time": "2021-06-27T21:11:14.984776Z",
     "start_time": "2021-06-27T21:11:14.975934Z"
    },
    "hidden": true
   },
   "outputs": [],
   "source": [
    "pesos = [67, 81, 120, 90]\n",
    "altura = [1.68, 1.70, 1.75, 1.85]"
   ]
  },
  {
   "cell_type": "markdown",
   "id": "8b3384b4",
   "metadata": {
    "hidden": true
   },
   "source": [
    "**Tentando calcular com listas**"
   ]
  },
  {
   "cell_type": "code",
   "execution_count": 27,
   "id": "f7502736",
   "metadata": {
    "ExecuteTime": {
     "end_time": "2021-06-27T21:11:16.702352Z",
     "start_time": "2021-06-27T21:11:16.680404Z"
    },
    "hidden": true
   },
   "outputs": [
    {
     "ename": "TypeError",
     "evalue": "unsupported operand type(s) for ** or pow(): 'list' and 'int'",
     "output_type": "error",
     "traceback": [
      "\u001b[0;31m---------------------------------------------------------------------------\u001b[0m",
      "\u001b[0;31mTypeError\u001b[0m                                 Traceback (most recent call last)",
      "\u001b[0;32m<ipython-input-27-d0842edca120>\u001b[0m in \u001b[0;36m<module>\u001b[0;34m\u001b[0m\n\u001b[0;32m----> 1\u001b[0;31m \u001b[0mpesos\u001b[0m \u001b[0;34m/\u001b[0m \u001b[0maltura\u001b[0m \u001b[0;34m**\u001b[0m \u001b[0;36m2\u001b[0m\u001b[0;34m\u001b[0m\u001b[0;34m\u001b[0m\u001b[0m\n\u001b[0m",
      "\u001b[0;31mTypeError\u001b[0m: unsupported operand type(s) for ** or pow(): 'list' and 'int'"
     ]
    }
   ],
   "source": [
    "pesos / altura ** 2"
   ]
  },
  {
   "cell_type": "markdown",
   "id": "c7cb8634",
   "metadata": {
    "hidden": true
   },
   "source": [
    "**Calculando com Numpy**"
   ]
  },
  {
   "cell_type": "code",
   "execution_count": 28,
   "id": "105322ff",
   "metadata": {
    "ExecuteTime": {
     "end_time": "2021-06-27T21:12:14.434085Z",
     "start_time": "2021-06-27T21:12:14.428435Z"
    },
    "hidden": true
   },
   "outputs": [],
   "source": [
    "pesos = np.array(pesos)\n",
    "altura = np.array(altura)"
   ]
  },
  {
   "cell_type": "code",
   "execution_count": 29,
   "id": "f0e4ebeb",
   "metadata": {
    "ExecuteTime": {
     "end_time": "2021-06-27T21:12:21.925285Z",
     "start_time": "2021-06-27T21:12:21.921509Z"
    },
    "hidden": true
   },
   "outputs": [
    {
     "data": {
      "text/plain": [
       "array([23.73866213, 28.02768166, 39.18367347, 26.29656684])"
      ]
     },
     "execution_count": 29,
     "metadata": {},
     "output_type": "execute_result"
    }
   ],
   "source": [
    "pesos / altura ** 2"
   ]
  },
  {
   "cell_type": "markdown",
   "id": "1a11e4f3",
   "metadata": {
    "heading_collapsed": true,
    "hidden": true
   },
   "source": [
    "#### Arrays Numpy armazenam elementos com String quando existe algum elemento não inteiro ou não float"
   ]
  },
  {
   "cell_type": "code",
   "execution_count": 30,
   "id": "07bd5b98",
   "metadata": {
    "ExecuteTime": {
     "end_time": "2021-06-27T21:14:02.600597Z",
     "start_time": "2021-06-27T21:14:02.593936Z"
    },
    "hidden": true
   },
   "outputs": [],
   "source": [
    "a = np.array([1, 3, 'Casa', True])"
   ]
  },
  {
   "cell_type": "code",
   "execution_count": 31,
   "id": "f3937406",
   "metadata": {
    "ExecuteTime": {
     "end_time": "2021-06-27T21:14:07.793853Z",
     "start_time": "2021-06-27T21:14:07.789504Z"
    },
    "hidden": true
   },
   "outputs": [
    {
     "data": {
      "text/plain": [
       "array(['1', '3', 'Casa', 'True'], dtype='<U21')"
      ]
     },
     "execution_count": 31,
     "metadata": {},
     "output_type": "execute_result"
    }
   ],
   "source": [
    "a"
   ]
  },
  {
   "cell_type": "markdown",
   "id": "3f4cc13a",
   "metadata": {
    "ExecuteTime": {
     "end_time": "2021-06-27T21:14:45.827874Z",
     "start_time": "2021-06-27T21:14:45.822471Z"
    },
    "hidden": true
   },
   "source": [
    "**Calculo dá erro, pois não são do tipo inteiro ou float**"
   ]
  },
  {
   "cell_type": "code",
   "execution_count": 32,
   "id": "bcc29abf",
   "metadata": {
    "ExecuteTime": {
     "end_time": "2021-06-27T21:14:16.732546Z",
     "start_time": "2021-06-27T21:14:16.709148Z"
    },
    "hidden": true
   },
   "outputs": [
    {
     "ename": "UFuncTypeError",
     "evalue": "ufunc 'multiply' did not contain a loop with signature matching types (dtype('<U21'), dtype('<U21')) -> dtype('<U21')",
     "output_type": "error",
     "traceback": [
      "\u001b[0;31m---------------------------------------------------------------------------\u001b[0m",
      "\u001b[0;31mUFuncTypeError\u001b[0m                            Traceback (most recent call last)",
      "\u001b[0;32m<ipython-input-32-aaf64398fbaf>\u001b[0m in \u001b[0;36m<module>\u001b[0;34m\u001b[0m\n\u001b[0;32m----> 1\u001b[0;31m \u001b[0ma\u001b[0m \u001b[0;34m*\u001b[0m \u001b[0;36m2\u001b[0m\u001b[0;34m\u001b[0m\u001b[0;34m\u001b[0m\u001b[0m\n\u001b[0m",
      "\u001b[0;31mUFuncTypeError\u001b[0m: ufunc 'multiply' did not contain a loop with signature matching types (dtype('<U21'), dtype('<U21')) -> dtype('<U21')"
     ]
    }
   ],
   "source": [
    "a * 2"
   ]
  },
  {
   "cell_type": "markdown",
   "id": "328f1d0f",
   "metadata": {
    "heading_collapsed": true
   },
   "source": [
    "### Métodos e Atributos Úteis"
   ]
  },
  {
   "cell_type": "markdown",
   "id": "d3f73949",
   "metadata": {
    "heading_collapsed": true,
    "hidden": true
   },
   "source": [
    "#### No Jupyter notebook, digite o '.' e pressione o 'tab' para visualizar os métodos disponíveis"
   ]
  },
  {
   "cell_type": "code",
   "execution_count": 35,
   "id": "a52376a7",
   "metadata": {
    "ExecuteTime": {
     "end_time": "2021-06-27T21:20:19.615497Z",
     "start_time": "2021-06-27T21:20:19.606630Z"
    },
    "hidden": true
   },
   "outputs": [
    {
     "ename": "SyntaxError",
     "evalue": "invalid syntax (<ipython-input-35-8831a6ec781d>, line 1)",
     "output_type": "error",
     "traceback": [
      "\u001b[0;36m  File \u001b[0;32m\"<ipython-input-35-8831a6ec781d>\"\u001b[0;36m, line \u001b[0;32m1\u001b[0m\n\u001b[0;31m    two_dim.\u001b[0m\n\u001b[0m            ^\u001b[0m\n\u001b[0;31mSyntaxError\u001b[0m\u001b[0;31m:\u001b[0m invalid syntax\n"
     ]
    }
   ],
   "source": [
    "two_dim."
   ]
  },
  {
   "cell_type": "markdown",
   "id": "a4fce76b",
   "metadata": {
    "heading_collapsed": true,
    "hidden": true
   },
   "source": [
    "#### shape: tamanho no formato linhas x colunas"
   ]
  },
  {
   "cell_type": "code",
   "execution_count": 36,
   "id": "e6e5c2ab",
   "metadata": {
    "ExecuteTime": {
     "end_time": "2021-06-27T21:21:10.845910Z",
     "start_time": "2021-06-27T21:21:10.840486Z"
    },
    "hidden": true
   },
   "outputs": [
    {
     "data": {
      "text/plain": [
       "(2, 3)"
      ]
     },
     "execution_count": 36,
     "metadata": {},
     "output_type": "execute_result"
    }
   ],
   "source": [
    "two_dim.shape"
   ]
  },
  {
   "cell_type": "markdown",
   "id": "248c852e",
   "metadata": {
    "heading_collapsed": true,
    "hidden": true
   },
   "source": [
    "#### ndim: retorna a quantidade de dimensões"
   ]
  },
  {
   "cell_type": "code",
   "execution_count": 37,
   "id": "293b94db",
   "metadata": {
    "ExecuteTime": {
     "end_time": "2021-06-27T21:22:20.191683Z",
     "start_time": "2021-06-27T21:22:20.182225Z"
    },
    "hidden": true
   },
   "outputs": [
    {
     "data": {
      "text/plain": [
       "2"
      ]
     },
     "execution_count": 37,
     "metadata": {},
     "output_type": "execute_result"
    }
   ],
   "source": [
    "two_dim.ndim"
   ]
  },
  {
   "cell_type": "markdown",
   "id": "5a3a0745",
   "metadata": {
    "heading_collapsed": true,
    "hidden": true
   },
   "source": [
    "#### max: retorna o valor máximo do array"
   ]
  },
  {
   "cell_type": "code",
   "execution_count": 39,
   "id": "5c073b6c",
   "metadata": {
    "ExecuteTime": {
     "end_time": "2021-06-27T21:23:26.069020Z",
     "start_time": "2021-06-27T21:23:26.063325Z"
    },
    "hidden": true
   },
   "outputs": [
    {
     "data": {
      "text/plain": [
       "6"
      ]
     },
     "execution_count": 39,
     "metadata": {},
     "output_type": "execute_result"
    }
   ],
   "source": [
    "two_dim.max()"
   ]
  },
  {
   "cell_type": "markdown",
   "id": "efc617e6",
   "metadata": {
    "heading_collapsed": true,
    "hidden": true
   },
   "source": [
    "#### min: retorna o valor mínimo do array"
   ]
  },
  {
   "cell_type": "code",
   "execution_count": 40,
   "id": "98ab9b44",
   "metadata": {
    "ExecuteTime": {
     "end_time": "2021-06-27T21:23:42.600945Z",
     "start_time": "2021-06-27T21:23:42.594998Z"
    },
    "hidden": true
   },
   "outputs": [
    {
     "data": {
      "text/plain": [
       "1"
      ]
     },
     "execution_count": 40,
     "metadata": {},
     "output_type": "execute_result"
    }
   ],
   "source": [
    "two_dim.min()"
   ]
  },
  {
   "cell_type": "markdown",
   "id": "89895168",
   "metadata": {
    "heading_collapsed": true,
    "hidden": true
   },
   "source": [
    "#### mean: retorna o valor médio do array"
   ]
  },
  {
   "cell_type": "code",
   "execution_count": 41,
   "id": "ec12a088",
   "metadata": {
    "ExecuteTime": {
     "end_time": "2021-06-27T21:24:02.098142Z",
     "start_time": "2021-06-27T21:24:02.077222Z"
    },
    "hidden": true
   },
   "outputs": [
    {
     "data": {
      "text/plain": [
       "3.5"
      ]
     },
     "execution_count": 41,
     "metadata": {},
     "output_type": "execute_result"
    }
   ],
   "source": [
    "two_dim.mean()"
   ]
  },
  {
   "cell_type": "markdown",
   "id": "d3a0164c",
   "metadata": {
    "heading_collapsed": true,
    "hidden": true
   },
   "source": [
    "#### std: retorna o desvio padrão do array"
   ]
  },
  {
   "cell_type": "code",
   "execution_count": 42,
   "id": "581eb837",
   "metadata": {
    "ExecuteTime": {
     "end_time": "2021-06-27T21:24:40.858433Z",
     "start_time": "2021-06-27T21:24:40.845447Z"
    },
    "hidden": true
   },
   "outputs": [
    {
     "data": {
      "text/plain": [
       "1.707825127659933"
      ]
     },
     "execution_count": 42,
     "metadata": {},
     "output_type": "execute_result"
    }
   ],
   "source": [
    "two_dim.std()"
   ]
  },
  {
   "cell_type": "markdown",
   "id": "ef05f432",
   "metadata": {
    "heading_collapsed": true,
    "hidden": true
   },
   "source": [
    "#### dtype: retorna o tipo de dados do array"
   ]
  },
  {
   "cell_type": "code",
   "execution_count": 45,
   "id": "d68d7da4",
   "metadata": {
    "ExecuteTime": {
     "end_time": "2021-06-27T21:25:41.651055Z",
     "start_time": "2021-06-27T21:25:41.644803Z"
    },
    "hidden": true
   },
   "outputs": [
    {
     "data": {
      "text/plain": [
       "dtype('int64')"
      ]
     },
     "execution_count": 45,
     "metadata": {},
     "output_type": "execute_result"
    }
   ],
   "source": [
    "two_dim.dtype"
   ]
  },
  {
   "cell_type": "markdown",
   "id": "2b2b06ee",
   "metadata": {
    "heading_collapsed": true,
    "hidden": true
   },
   "source": [
    "#### size: retorna a quantidade de elementos dentro do array"
   ]
  },
  {
   "cell_type": "code",
   "execution_count": 46,
   "id": "f440dbe8",
   "metadata": {
    "ExecuteTime": {
     "end_time": "2021-06-27T21:26:34.965385Z",
     "start_time": "2021-06-27T21:26:34.951129Z"
    },
    "hidden": true
   },
   "outputs": [
    {
     "data": {
      "text/plain": [
       "6"
      ]
     },
     "execution_count": 46,
     "metadata": {},
     "output_type": "execute_result"
    }
   ],
   "source": [
    "two_dim.size"
   ]
  },
  {
   "cell_type": "markdown",
   "id": "ca1033d9",
   "metadata": {
    "heading_collapsed": true,
    "hidden": true
   },
   "source": [
    "#### itemsize: mostra a quantidade em bytes dos elementos"
   ]
  },
  {
   "cell_type": "code",
   "execution_count": 47,
   "id": "296dc03c",
   "metadata": {
    "ExecuteTime": {
     "end_time": "2021-06-27T21:27:53.897427Z",
     "start_time": "2021-06-27T21:27:53.893100Z"
    },
    "hidden": true
   },
   "outputs": [
    {
     "data": {
      "text/plain": [
       "8"
      ]
     },
     "execution_count": 47,
     "metadata": {},
     "output_type": "execute_result"
    }
   ],
   "source": [
    "two_dim.itemsize"
   ]
  },
  {
   "cell_type": "markdown",
   "id": "e378f8c7",
   "metadata": {
    "heading_collapsed": true,
    "hidden": true
   },
   "source": [
    "#### sum: retorna a soma de todos elementos do array"
   ]
  },
  {
   "cell_type": "code",
   "execution_count": 48,
   "id": "6cc3de4b",
   "metadata": {
    "ExecuteTime": {
     "end_time": "2021-06-27T21:28:15.992666Z",
     "start_time": "2021-06-27T21:28:15.986873Z"
    },
    "hidden": true
   },
   "outputs": [
    {
     "data": {
      "text/plain": [
       "21"
      ]
     },
     "execution_count": 48,
     "metadata": {},
     "output_type": "execute_result"
    }
   ],
   "source": [
    "two_dim.sum()"
   ]
  },
  {
   "cell_type": "markdown",
   "id": "b5807d25",
   "metadata": {
    "heading_collapsed": true
   },
   "source": [
    "### Transformando Arrays"
   ]
  },
  {
   "cell_type": "markdown",
   "id": "95f7bb43",
   "metadata": {
    "heading_collapsed": true,
    "hidden": true
   },
   "source": [
    "#### Transposta da Matriz - nparray.T"
   ]
  },
  {
   "cell_type": "code",
   "execution_count": 49,
   "id": "c793543f",
   "metadata": {
    "ExecuteTime": {
     "end_time": "2021-06-27T21:32:18.308048Z",
     "start_time": "2021-06-27T21:32:18.304316Z"
    },
    "hidden": true
   },
   "outputs": [
    {
     "data": {
      "text/plain": [
       "array([[1, 2, 3],\n",
       "       [4, 5, 6]])"
      ]
     },
     "execution_count": 49,
     "metadata": {},
     "output_type": "execute_result"
    }
   ],
   "source": [
    "two_dim"
   ]
  },
  {
   "cell_type": "code",
   "execution_count": 50,
   "id": "ed1060b5",
   "metadata": {
    "ExecuteTime": {
     "end_time": "2021-06-27T21:32:22.811488Z",
     "start_time": "2021-06-27T21:32:22.808070Z"
    },
    "hidden": true
   },
   "outputs": [
    {
     "data": {
      "text/plain": [
       "array([[1, 4],\n",
       "       [2, 5],\n",
       "       [3, 6]])"
      ]
     },
     "execution_count": 50,
     "metadata": {},
     "output_type": "execute_result"
    }
   ],
   "source": [
    "two_dim.T"
   ]
  },
  {
   "cell_type": "markdown",
   "id": "e0f38c6e",
   "metadata": {
    "ExecuteTime": {
     "end_time": "2021-06-27T21:33:11.549918Z",
     "start_time": "2021-06-27T21:33:11.545194Z"
    },
    "heading_collapsed": true,
    "hidden": true
   },
   "source": [
    "#### Transformar uma matriz em um array"
   ]
  },
  {
   "cell_type": "markdown",
   "id": "3f026ab4",
   "metadata": {
    "hidden": true
   },
   "source": [
    "**Uso muito comum em bibliotecas de Machine Learning**"
   ]
  },
  {
   "cell_type": "code",
   "execution_count": 61,
   "id": "938eb292",
   "metadata": {
    "ExecuteTime": {
     "end_time": "2021-06-27T21:36:07.408293Z",
     "start_time": "2021-06-27T21:36:07.397170Z"
    },
    "hidden": true
   },
   "outputs": [
    {
     "data": {
      "text/plain": [
       "array([[1, 2, 3],\n",
       "       [4, 5, 6]])"
      ]
     },
     "execution_count": 61,
     "metadata": {},
     "output_type": "execute_result"
    }
   ],
   "source": [
    "two_dim"
   ]
  },
  {
   "cell_type": "code",
   "execution_count": 52,
   "id": "9b47baa2",
   "metadata": {
    "ExecuteTime": {
     "end_time": "2021-06-27T21:33:27.646556Z",
     "start_time": "2021-06-27T21:33:27.639815Z"
    },
    "hidden": true
   },
   "outputs": [
    {
     "data": {
      "text/plain": [
       "array([1, 2, 3, 4, 5, 6])"
      ]
     },
     "execution_count": 52,
     "metadata": {},
     "output_type": "execute_result"
    }
   ],
   "source": [
    "two_dim.reshape(-1)"
   ]
  },
  {
   "cell_type": "markdown",
   "id": "c09c389d",
   "metadata": {
    "heading_collapsed": true,
    "hidden": true
   },
   "source": [
    "#### Transformando uma matriz 5 x 3 em uma matriz 3 x 5"
   ]
  },
  {
   "cell_type": "code",
   "execution_count": 58,
   "id": "a781e5f2",
   "metadata": {
    "ExecuteTime": {
     "end_time": "2021-06-27T21:34:52.477006Z",
     "start_time": "2021-06-27T21:34:52.471887Z"
    },
    "hidden": true
   },
   "outputs": [
    {
     "data": {
      "text/plain": [
       "array([[0.5968339 , 0.25948805, 0.26160492],\n",
       "       [0.38802309, 0.04291735, 0.53646541],\n",
       "       [0.35261558, 0.75891689, 0.36508932],\n",
       "       [0.33186647, 0.16843952, 0.15122813],\n",
       "       [0.66158876, 0.62866738, 0.78553935]])"
      ]
     },
     "execution_count": 58,
     "metadata": {},
     "output_type": "execute_result"
    }
   ],
   "source": [
    "tree = np.random.random((5, 3))\n",
    "tree"
   ]
  },
  {
   "cell_type": "code",
   "execution_count": 59,
   "id": "8e1d47cb",
   "metadata": {
    "ExecuteTime": {
     "end_time": "2021-06-27T21:34:54.958898Z",
     "start_time": "2021-06-27T21:34:54.951067Z"
    },
    "hidden": true
   },
   "outputs": [
    {
     "data": {
      "text/plain": [
       "(5, 3)"
      ]
     },
     "execution_count": 59,
     "metadata": {},
     "output_type": "execute_result"
    }
   ],
   "source": [
    "tree.shape"
   ]
  },
  {
   "cell_type": "code",
   "execution_count": 60,
   "id": "4e89a7f3",
   "metadata": {
    "ExecuteTime": {
     "end_time": "2021-06-27T21:34:56.597142Z",
     "start_time": "2021-06-27T21:34:56.591012Z"
    },
    "hidden": true
   },
   "outputs": [
    {
     "data": {
      "text/plain": [
       "array([[0.5968339 , 0.25948805, 0.26160492, 0.38802309, 0.04291735],\n",
       "       [0.53646541, 0.35261558, 0.75891689, 0.36508932, 0.33186647],\n",
       "       [0.16843952, 0.15122813, 0.66158876, 0.62866738, 0.78553935]])"
      ]
     },
     "execution_count": 60,
     "metadata": {},
     "output_type": "execute_result"
    }
   ],
   "source": [
    "tree.reshape(3,5)"
   ]
  },
  {
   "cell_type": "markdown",
   "id": "c5d0840f",
   "metadata": {
    "heading_collapsed": true,
    "hidden": true
   },
   "source": [
    "#### Adicionando elementos em um Array"
   ]
  },
  {
   "cell_type": "code",
   "execution_count": 81,
   "id": "58373330",
   "metadata": {
    "ExecuteTime": {
     "end_time": "2021-06-27T21:45:22.860780Z",
     "start_time": "2021-06-27T21:45:22.852825Z"
    },
    "hidden": true
   },
   "outputs": [
    {
     "data": {
      "text/plain": [
       "array([1, 2, 3, 4, 5, 6])"
      ]
     },
     "execution_count": 81,
     "metadata": {},
     "output_type": "execute_result"
    }
   ],
   "source": [
    "two_dim"
   ]
  },
  {
   "cell_type": "code",
   "execution_count": 84,
   "id": "bbde8b8d",
   "metadata": {
    "ExecuteTime": {
     "end_time": "2021-06-27T21:45:52.655376Z",
     "start_time": "2021-06-27T21:45:52.641721Z"
    },
    "hidden": true
   },
   "outputs": [
    {
     "data": {
      "text/plain": [
       "array([10,  1,  2,  3,  4,  5,  6])"
      ]
     },
     "execution_count": 84,
     "metadata": {},
     "output_type": "execute_result"
    }
   ],
   "source": [
    "# np.insert(array, index, values)\n",
    "two_dim = np.insert(two_dim, 0, [10])\n",
    "two_dim"
   ]
  },
  {
   "cell_type": "markdown",
   "id": "4a700313",
   "metadata": {
    "heading_collapsed": true,
    "hidden": true
   },
   "source": [
    "#### Excluindo elemento"
   ]
  },
  {
   "cell_type": "code",
   "execution_count": 85,
   "id": "4237d3ae",
   "metadata": {
    "ExecuteTime": {
     "end_time": "2021-06-27T21:45:54.653442Z",
     "start_time": "2021-06-27T21:45:54.647510Z"
    },
    "hidden": true
   },
   "outputs": [
    {
     "data": {
      "text/plain": [
       "array([1, 2, 3, 4, 5, 6])"
      ]
     },
     "execution_count": 85,
     "metadata": {},
     "output_type": "execute_result"
    }
   ],
   "source": [
    "two_dim = np.delete(two_dim, [0])\n",
    "two_dim"
   ]
  },
  {
   "cell_type": "markdown",
   "id": "d6d104b3",
   "metadata": {
    "hidden": true
   },
   "source": [
    "#### Salvando array em arquivo .txt"
   ]
  },
  {
   "cell_type": "code",
   "execution_count": 89,
   "id": "d6675793",
   "metadata": {
    "ExecuteTime": {
     "end_time": "2021-06-27T21:47:03.481815Z",
     "start_time": "2021-06-27T21:47:03.474208Z"
    },
    "hidden": true
   },
   "outputs": [],
   "source": [
    "np.savetxt(\"./output/dataset_array_numpy\", two_dim, delimiter=',')"
   ]
  },
  {
   "cell_type": "markdown",
   "id": "b035a055",
   "metadata": {
    "heading_collapsed": true
   },
   "source": [
    "### Acessando dados do Array"
   ]
  },
  {
   "cell_type": "markdown",
   "id": "bf9468db",
   "metadata": {
    "heading_collapsed": true,
    "hidden": true
   },
   "source": [
    "#### Criando array exemplo"
   ]
  },
  {
   "cell_type": "code",
   "execution_count": 91,
   "id": "0e360c74",
   "metadata": {
    "ExecuteTime": {
     "end_time": "2021-06-28T13:57:32.276221Z",
     "start_time": "2021-06-28T13:57:32.269991Z"
    },
    "hidden": true
   },
   "outputs": [
    {
     "data": {
      "text/plain": [
       "array([[0.21944452, 0.20100918],\n",
       "       [0.72634442, 0.31996775],\n",
       "       [0.86399952, 0.66278192],\n",
       "       [0.48091599, 0.81609481],\n",
       "       [0.7560191 , 0.9898297 ],\n",
       "       [0.96027888, 0.18387974],\n",
       "       [0.32531389, 0.37704739],\n",
       "       [0.12890967, 0.65468573],\n",
       "       [0.12550194, 0.22608206],\n",
       "       [0.89536819, 0.35210221]])"
      ]
     },
     "execution_count": 91,
     "metadata": {},
     "output_type": "execute_result"
    }
   ],
   "source": [
    "my_array = np.random.random([10, 2])\n",
    "my_array"
   ]
  },
  {
   "cell_type": "markdown",
   "id": "5ff0b03b",
   "metadata": {
    "heading_collapsed": true,
    "hidden": true
   },
   "source": [
    "#### Lendo elementos do array"
   ]
  },
  {
   "cell_type": "markdown",
   "id": "cb3ad0ed",
   "metadata": {
    "heading_collapsed": true,
    "hidden": true
   },
   "source": [
    "##### Lendo a primeira linha"
   ]
  },
  {
   "cell_type": "code",
   "execution_count": 92,
   "id": "0c5aa8a0",
   "metadata": {
    "ExecuteTime": {
     "end_time": "2021-06-28T13:57:38.079765Z",
     "start_time": "2021-06-28T13:57:38.072957Z"
    },
    "hidden": true
   },
   "outputs": [
    {
     "data": {
      "text/plain": [
       "array([0.21944452, 0.20100918])"
      ]
     },
     "execution_count": 92,
     "metadata": {},
     "output_type": "execute_result"
    }
   ],
   "source": [
    "my_array[0]"
   ]
  },
  {
   "cell_type": "markdown",
   "id": "ebdcdec1",
   "metadata": {
    "heading_collapsed": true,
    "hidden": true
   },
   "source": [
    "##### Lendo o primeiro elemento da coluna 0"
   ]
  },
  {
   "cell_type": "code",
   "execution_count": 93,
   "id": "7833e596",
   "metadata": {
    "ExecuteTime": {
     "end_time": "2021-06-28T13:59:49.721298Z",
     "start_time": "2021-06-28T13:59:49.717330Z"
    },
    "hidden": true
   },
   "outputs": [
    {
     "data": {
      "text/plain": [
       "0.21944452284741056"
      ]
     },
     "execution_count": 93,
     "metadata": {},
     "output_type": "execute_result"
    }
   ],
   "source": [
    "my_array[0][0]"
   ]
  },
  {
   "cell_type": "markdown",
   "id": "3275df4c",
   "metadata": {
    "heading_collapsed": true,
    "hidden": true
   },
   "source": [
    "##### Lendo o primeiro elemento da coluna 1"
   ]
  },
  {
   "cell_type": "code",
   "execution_count": 94,
   "id": "8d3534c9",
   "metadata": {
    "ExecuteTime": {
     "end_time": "2021-06-28T14:00:50.042492Z",
     "start_time": "2021-06-28T14:00:50.036275Z"
    },
    "hidden": true
   },
   "outputs": [
    {
     "data": {
      "text/plain": [
       "0.20100917704740917"
      ]
     },
     "execution_count": 94,
     "metadata": {},
     "output_type": "execute_result"
    }
   ],
   "source": [
    "my_array[0][1]"
   ]
  },
  {
   "cell_type": "markdown",
   "id": "46642526",
   "metadata": {
    "heading_collapsed": true,
    "hidden": true
   },
   "source": [
    "##### Lendo o segundo elemento da coluna 1 "
   ]
  },
  {
   "cell_type": "code",
   "execution_count": 98,
   "id": "ed8ad002",
   "metadata": {
    "ExecuteTime": {
     "end_time": "2021-06-28T14:06:17.879548Z",
     "start_time": "2021-06-28T14:06:17.870722Z"
    },
    "hidden": true
   },
   "outputs": [
    {
     "data": {
      "text/plain": [
       "0.3199677534658567"
      ]
     },
     "execution_count": 98,
     "metadata": {},
     "output_type": "execute_result"
    }
   ],
   "source": [
    "my_array[1][1]"
   ]
  },
  {
   "cell_type": "markdown",
   "id": "96a24ef3",
   "metadata": {
    "heading_collapsed": true,
    "hidden": true
   },
   "source": [
    "##### Lendo o segundo elemento da coluna 1 "
   ]
  },
  {
   "cell_type": "code",
   "execution_count": 97,
   "id": "345181c4",
   "metadata": {
    "ExecuteTime": {
     "end_time": "2021-06-28T14:06:15.323604Z",
     "start_time": "2021-06-28T14:06:15.314786Z"
    },
    "hidden": true
   },
   "outputs": [
    {
     "data": {
      "text/plain": [
       "0.3199677534658567"
      ]
     },
     "execution_count": 97,
     "metadata": {},
     "output_type": "execute_result"
    }
   ],
   "source": [
    "my_array[1,1]"
   ]
  },
  {
   "cell_type": "markdown",
   "id": "f048a73e",
   "metadata": {
    "heading_collapsed": true,
    "hidden": true
   },
   "source": [
    "#### Lendo usando slice"
   ]
  },
  {
   "cell_type": "markdown",
   "id": "a89768b0",
   "metadata": {
    "heading_collapsed": true,
    "hidden": true
   },
   "source": [
    "##### Lendo 3 primeiros elementos da coluna 1"
   ]
  },
  {
   "cell_type": "code",
   "execution_count": 96,
   "id": "cac54722",
   "metadata": {
    "ExecuteTime": {
     "end_time": "2021-06-28T14:05:26.490311Z",
     "start_time": "2021-06-28T14:05:26.481116Z"
    },
    "hidden": true
   },
   "outputs": [
    {
     "data": {
      "text/plain": [
       "array([0.20100918, 0.31996775, 0.66278192])"
      ]
     },
     "execution_count": 96,
     "metadata": {},
     "output_type": "execute_result"
    }
   ],
   "source": [
    "my_array[:3, 1]"
   ]
  },
  {
   "cell_type": "markdown",
   "id": "85b57261",
   "metadata": {
    "heading_collapsed": true,
    "hidden": true
   },
   "source": [
    "##### Lendo todas as linhas da coluna 1"
   ]
  },
  {
   "cell_type": "code",
   "execution_count": 99,
   "id": "612c9c47",
   "metadata": {
    "ExecuteTime": {
     "end_time": "2021-06-28T14:09:09.892288Z",
     "start_time": "2021-06-28T14:09:09.885229Z"
    },
    "hidden": true
   },
   "outputs": [
    {
     "data": {
      "text/plain": [
       "array([0.20100918, 0.31996775, 0.66278192, 0.81609481, 0.9898297 ,\n",
       "       0.18387974, 0.37704739, 0.65468573, 0.22608206, 0.35210221])"
      ]
     },
     "execution_count": 99,
     "metadata": {},
     "output_type": "execute_result"
    }
   ],
   "source": [
    "my_array[:, 1]"
   ]
  },
  {
   "cell_type": "markdown",
   "id": "4afa5704",
   "metadata": {
    "heading_collapsed": true,
    "hidden": true
   },
   "source": [
    "##### Lendo todos os elementos da coluna 1 e multiplicando por 10"
   ]
  },
  {
   "cell_type": "code",
   "execution_count": 100,
   "id": "6675c652",
   "metadata": {
    "ExecuteTime": {
     "end_time": "2021-06-28T14:10:00.505797Z",
     "start_time": "2021-06-28T14:10:00.494047Z"
    },
    "hidden": true
   },
   "outputs": [
    {
     "data": {
      "text/plain": [
       "array([2.01009177, 3.19967753, 6.62781916, 8.16094813, 9.89829698,\n",
       "       1.83879744, 3.77047393, 6.54685728, 2.26082059, 3.52102213])"
      ]
     },
     "execution_count": 100,
     "metadata": {},
     "output_type": "execute_result"
    }
   ],
   "source": [
    "my_array[:, 1] * 10"
   ]
  },
  {
   "cell_type": "markdown",
   "id": "cee32232",
   "metadata": {
    "hidden": true
   },
   "source": [
    "#### Lendo usando condição com arrays"
   ]
  },
  {
   "cell_type": "code",
   "execution_count": 101,
   "id": "e3ff1a21",
   "metadata": {
    "ExecuteTime": {
     "end_time": "2021-06-28T14:11:27.465307Z",
     "start_time": "2021-06-28T14:11:27.459999Z"
    },
    "hidden": true
   },
   "outputs": [
    {
     "data": {
      "text/plain": [
       "array([[False, False],\n",
       "       [ True, False],\n",
       "       [ True,  True],\n",
       "       [False,  True],\n",
       "       [ True,  True],\n",
       "       [ True, False],\n",
       "       [False, False],\n",
       "       [False,  True],\n",
       "       [False, False],\n",
       "       [ True, False]])"
      ]
     },
     "execution_count": 101,
     "metadata": {},
     "output_type": "execute_result"
    }
   ],
   "source": [
    "my_array > 0.50"
   ]
  },
  {
   "cell_type": "code",
   "execution_count": 102,
   "id": "7d8a38b1",
   "metadata": {
    "ExecuteTime": {
     "end_time": "2021-06-28T14:12:19.107159Z",
     "start_time": "2021-06-28T14:12:19.099941Z"
    },
    "hidden": true
   },
   "outputs": [
    {
     "data": {
      "text/plain": [
       "array([0.72634442, 0.86399952, 0.66278192, 0.81609481, 0.7560191 ,\n",
       "       0.9898297 , 0.96027888, 0.65468573, 0.89536819])"
      ]
     },
     "execution_count": 102,
     "metadata": {},
     "output_type": "execute_result"
    }
   ],
   "source": [
    "my_array[my_array > 0.50]"
   ]
  },
  {
   "cell_type": "markdown",
   "id": "3a21f17b",
   "metadata": {},
   "source": [
    "### Carregando Arrays Numpy a partir de arquivos de Texto"
   ]
  },
  {
   "cell_type": "markdown",
   "id": "548b29a1",
   "metadata": {
    "heading_collapsed": true
   },
   "source": [
    "#### Lendo array 1 dim"
   ]
  },
  {
   "cell_type": "code",
   "execution_count": 106,
   "id": "6095fc2e",
   "metadata": {
    "ExecuteTime": {
     "end_time": "2021-06-28T14:17:25.836096Z",
     "start_time": "2021-06-28T14:17:25.831828Z"
    },
    "hidden": true
   },
   "outputs": [
    {
     "data": {
      "text/plain": [
       "array([1., 2., 3., 4., 5., 6.])"
      ]
     },
     "execution_count": 106,
     "metadata": {},
     "output_type": "execute_result"
    }
   ],
   "source": [
    "dataset = np.loadtxt(\"./output/dataset_array_numpy\", delimiter=',')\n",
    "dataset"
   ]
  },
  {
   "cell_type": "code",
   "execution_count": 104,
   "id": "439d42b1",
   "metadata": {
    "ExecuteTime": {
     "end_time": "2021-06-28T14:14:12.737701Z",
     "start_time": "2021-06-28T14:14:12.732841Z"
    },
    "hidden": true
   },
   "outputs": [
    {
     "data": {
      "text/plain": [
       "(6,)"
      ]
     },
     "execution_count": 104,
     "metadata": {},
     "output_type": "execute_result"
    }
   ],
   "source": [
    "dataset.shape"
   ]
  },
  {
   "cell_type": "markdown",
   "id": "c915f1ee",
   "metadata": {
    "heading_collapsed": true
   },
   "source": [
    "#### Lendo multiplas colunas dividindo em arrays"
   ]
  },
  {
   "cell_type": "code",
   "execution_count": 107,
   "id": "8fbfc806",
   "metadata": {
    "ExecuteTime": {
     "end_time": "2021-06-28T14:17:58.102747Z",
     "start_time": "2021-06-28T14:17:58.098305Z"
    },
    "hidden": true
   },
   "outputs": [],
   "source": [
    "a, b, c = np.loadtxt(\"./dados/dataset_valores.txt\", skiprows=1, unpack=True)"
   ]
  },
  {
   "cell_type": "code",
   "execution_count": 108,
   "id": "affde52d",
   "metadata": {
    "ExecuteTime": {
     "end_time": "2021-06-28T14:18:11.527086Z",
     "start_time": "2021-06-28T14:18:11.517634Z"
    },
    "hidden": true
   },
   "outputs": [
    {
     "data": {
      "text/plain": [
       "array([0.4839, 0.1292, 0.1781, 0.7676, 0.5993])"
      ]
     },
     "execution_count": 108,
     "metadata": {},
     "output_type": "execute_result"
    }
   ],
   "source": [
    "a"
   ]
  },
  {
   "cell_type": "code",
   "execution_count": 109,
   "id": "e990a064",
   "metadata": {
    "ExecuteTime": {
     "end_time": "2021-06-28T14:18:16.646173Z",
     "start_time": "2021-06-28T14:18:16.639854Z"
    },
    "hidden": true
   },
   "outputs": [
    {
     "data": {
      "text/plain": [
       "array([0.4536, 0.6875, 0.3049, 0.5801, 0.4357])"
      ]
     },
     "execution_count": 109,
     "metadata": {},
     "output_type": "execute_result"
    }
   ],
   "source": [
    "b"
   ]
  },
  {
   "cell_type": "code",
   "execution_count": 110,
   "id": "0b271704",
   "metadata": {
    "ExecuteTime": {
     "end_time": "2021-06-28T14:18:18.673440Z",
     "start_time": "2021-06-28T14:18:18.668135Z"
    },
    "hidden": true
   },
   "outputs": [
    {
     "data": {
      "text/plain": [
       "array([0.3561, 0.6565, 0.8928, 0.2038, 0.741 ])"
      ]
     },
     "execution_count": 110,
     "metadata": {},
     "output_type": "execute_result"
    }
   ],
   "source": [
    "c"
   ]
  },
  {
   "cell_type": "markdown",
   "id": "da109d7c",
   "metadata": {
    "heading_collapsed": true
   },
   "source": [
    "#### Lendo arquivo preenchendo valores não numéricos com zero"
   ]
  },
  {
   "cell_type": "code",
   "execution_count": 112,
   "id": "061cb061",
   "metadata": {
    "ExecuteTime": {
     "end_time": "2021-06-28T14:21:50.458849Z",
     "start_time": "2021-06-28T14:21:50.452961Z"
    },
    "hidden": true
   },
   "outputs": [],
   "source": [
    "dataset = np.genfromtxt(\"./dados/dataset_valores_vazio.txt\", skip_header=2, filling_values=0)"
   ]
  },
  {
   "cell_type": "code",
   "execution_count": 113,
   "id": "7146c433",
   "metadata": {
    "ExecuteTime": {
     "end_time": "2021-06-28T14:21:55.298589Z",
     "start_time": "2021-06-28T14:21:55.292365Z"
    },
    "hidden": true
   },
   "outputs": [
    {
     "data": {
      "text/plain": [
       "array([[0.4839, 0.4536, 0.3561],\n",
       "       [0.1292, 0.6875, 0.    ],\n",
       "       [0.1781, 0.3049, 0.8928],\n",
       "       [0.    , 0.5801, 0.2038],\n",
       "       [0.5993, 0.4357, 0.741 ]])"
      ]
     },
     "execution_count": 113,
     "metadata": {},
     "output_type": "execute_result"
    }
   ],
   "source": [
    "dataset"
   ]
  }
 ],
 "metadata": {
  "kernelspec": {
   "display_name": "Python 3",
   "language": "python",
   "name": "python3"
  },
  "language_info": {
   "codemirror_mode": {
    "name": "ipython",
    "version": 3
   },
   "file_extension": ".py",
   "mimetype": "text/x-python",
   "name": "python",
   "nbconvert_exporter": "python",
   "pygments_lexer": "ipython3",
   "version": "3.8.5"
  },
  "varInspector": {
   "cols": {
    "lenName": 16,
    "lenType": 16,
    "lenVar": 40
   },
   "kernels_config": {
    "python": {
     "delete_cmd_postfix": "",
     "delete_cmd_prefix": "del ",
     "library": "var_list.py",
     "varRefreshCmd": "print(var_dic_list())"
    },
    "r": {
     "delete_cmd_postfix": ") ",
     "delete_cmd_prefix": "rm(",
     "library": "var_list.r",
     "varRefreshCmd": "cat(var_dic_list()) "
    }
   },
   "types_to_exclude": [
    "module",
    "function",
    "builtin_function_or_method",
    "instance",
    "_Feature"
   ],
   "window_display": false
  }
 },
 "nbformat": 4,
 "nbformat_minor": 5
}
