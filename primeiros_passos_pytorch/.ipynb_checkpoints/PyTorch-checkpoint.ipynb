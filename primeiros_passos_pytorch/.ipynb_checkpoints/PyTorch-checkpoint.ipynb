{
 "cells": [
  {
   "cell_type": "markdown",
   "id": "53d27109",
   "metadata": {},
   "source": [
    "## Deep Learning com Pytorch"
   ]
  },
  {
   "cell_type": "markdown",
   "id": "f07115f0",
   "metadata": {
    "ExecuteTime": {
     "end_time": "2021-06-26T19:46:48.338761Z",
     "start_time": "2021-06-26T19:45:50.452Z"
    }
   },
   "source": [
    "Trabalho baseado na palestra ministrada pela Stack no Youtube. \n",
    "\n",
    "Link para vídeo:\n",
    "https://www.youtube.com/watch?v=pQs7BCkqz9Q&t=18s"
   ]
  },
  {
   "cell_type": "markdown",
   "id": "498e9c47",
   "metadata": {},
   "source": [
    "### Dataset MNIST"
   ]
  },
  {
   "cell_type": "markdown",
   "id": "97cb404d",
   "metadata": {},
   "source": [
    "Conjunto de dados MNIST que consiste em dígitos manuscritos em escala de cinza com tamanho de 28x28 pixels."
   ]
  },
  {
   "attachments": {},
   "cell_type": "markdown",
   "id": "51e258e7",
   "metadata": {},
   "source": [
    "![](mnist.png)"
   ]
  },
  {
   "cell_type": "markdown",
   "id": "69fe41d0",
   "metadata": {},
   "source": [
    "### Importando bibliotecas"
   ]
  },
  {
   "cell_type": "code",
   "execution_count": 1,
   "id": "246a178b",
   "metadata": {
    "ExecuteTime": {
     "end_time": "2021-06-26T19:44:12.113863Z",
     "start_time": "2021-06-26T19:44:10.904236Z"
    }
   },
   "outputs": [],
   "source": [
    "%matplotlib inline\n",
    "\n",
    "import numpy as np\n",
    "import torch\n",
    "import matplotlib.pyplot as plt"
   ]
  },
  {
   "cell_type": "markdown",
   "id": "656202cf",
   "metadata": {},
   "source": [
    "### Download do dataset"
   ]
  },
  {
   "cell_type": "code",
   "execution_count": 2,
   "id": "261c70fc",
   "metadata": {
    "ExecuteTime": {
     "end_time": "2021-06-26T19:44:12.289120Z",
     "start_time": "2021-06-26T19:44:12.115253Z"
    }
   },
   "outputs": [
    {
     "name": "stderr",
     "output_type": "stream",
     "text": [
      "/home/michel/Documentos/workspace/Portifólio/cursos/primeiros_passos_pytorch/env/lib/python3.8/site-packages/torchvision/datasets/mnist.py:498: UserWarning: The given NumPy array is not writeable, and PyTorch does not support non-writeable tensors. This means you can write to the underlying (supposedly non-writeable) NumPy array using the tensor. You may want to copy the array to protect its data or make it writeable before converting it to a tensor. This type of warning will be suppressed for the rest of this program. (Triggered internally at  /pytorch/torch/csrc/utils/tensor_numpy.cpp:180.)\n",
      "  return torch.from_numpy(parsed.astype(m[2], copy=False)).view(*s)\n"
     ]
    }
   ],
   "source": [
    "from torchvision import datasets, transforms\n",
    "\n",
    "transform = transforms.Compose([transforms.ToTensor(),\n",
    "                                transforms.Normalize((0.5,),(0.5,)),\n",
    "                                ])\n",
    "\n",
    "#Download\n",
    "trainset = datasets.MNIST('~/.pytorch_data/MNIST_data/', \n",
    "                          download=True, \n",
    "                          train=True, \n",
    "                          transform=transform)\n",
    "\n",
    "trainloader = torch.utils.data.DataLoader(trainset, batch_size=10, shuffle=True)"
   ]
  },
  {
   "cell_type": "code",
   "execution_count": 3,
   "id": "ed1f951a",
   "metadata": {
    "ExecuteTime": {
     "end_time": "2021-06-26T19:44:12.298469Z",
     "start_time": "2021-06-26T19:44:12.292050Z"
    }
   },
   "outputs": [
    {
     "data": {
      "text/plain": [
       "Dataset MNIST\n",
       "    Number of datapoints: 60000\n",
       "    Root location: /home/michel/.pytorch_data/MNIST_data/\n",
       "    Split: Train\n",
       "    StandardTransform\n",
       "Transform: Compose(\n",
       "               ToTensor()\n",
       "               Normalize(mean=(0.5,), std=(0.5,))\n",
       "           )"
      ]
     },
     "execution_count": 3,
     "metadata": {},
     "output_type": "execute_result"
    }
   ],
   "source": [
    "trainset"
   ]
  },
  {
   "cell_type": "code",
   "execution_count": 4,
   "id": "757bca7d",
   "metadata": {
    "ExecuteTime": {
     "end_time": "2021-06-26T19:44:12.305016Z",
     "start_time": "2021-06-26T19:44:12.300467Z"
    }
   },
   "outputs": [
    {
     "data": {
      "text/plain": [
       "<torch.utils.data.dataloader.DataLoader at 0x7feed8154be0>"
      ]
     },
     "execution_count": 4,
     "metadata": {},
     "output_type": "execute_result"
    }
   ],
   "source": [
    "trainloader"
   ]
  },
  {
   "cell_type": "markdown",
   "id": "de95821a",
   "metadata": {},
   "source": [
    "### A imagem"
   ]
  },
  {
   "cell_type": "markdown",
   "id": "b8916e60",
   "metadata": {},
   "source": [
    "Os dados de treinamento estão no trainloader e possui as seguintes características:\n",
    "\n",
    "- Batch (tamanho 10) - Representa o número de imagens que são utilizadas em cada iteração da rede neural.\n",
    "- Shuffle (true) - Para embaralhar os dados"
   ]
  },
  {
   "cell_type": "markdown",
   "id": "0f193375",
   "metadata": {},
   "source": [
    "#### Criando um iterator para realização do loop nos dados "
   ]
  },
  {
   "cell_type": "code",
   "execution_count": 5,
   "id": "537a7b93",
   "metadata": {
    "ExecuteTime": {
     "end_time": "2021-06-26T19:44:12.338548Z",
     "start_time": "2021-06-26T19:44:12.307829Z"
    }
   },
   "outputs": [],
   "source": [
    "# tornando o trainLoader iteravel\n",
    "dataiter = iter(trainloader)\n",
    "images, labels = dataiter.next()"
   ]
  },
  {
   "cell_type": "markdown",
   "id": "b0cf1987",
   "metadata": {},
   "source": [
    "#### Verificando uma imagem e um label"
   ]
  },
  {
   "cell_type": "markdown",
   "id": "b718646c",
   "metadata": {},
   "source": [
    "**Imagem**"
   ]
  },
  {
   "cell_type": "code",
   "execution_count": 6,
   "id": "b92ff621",
   "metadata": {
    "ExecuteTime": {
     "end_time": "2021-06-26T19:44:12.343625Z",
     "start_time": "2021-06-26T19:44:12.340043Z"
    }
   },
   "outputs": [
    {
     "name": "stdout",
     "output_type": "stream",
     "text": [
      "image type: <class 'torch.Tensor'>\n",
      "image shape: torch.Size([10, 1, 28, 28])\n"
     ]
    }
   ],
   "source": [
    "print(\"image type:\", type(images))\n",
    "print(\"image shape:\", images.shape)"
   ]
  },
  {
   "cell_type": "markdown",
   "id": "bf7a4d97",
   "metadata": {},
   "source": [
    "- Essa imagem é o tensor!\n",
    "\n",
    "- Shape:\n",
    " - 10 = Batch de 10 imagens\n",
    " - 1 = 1 color channel (cinza)\n",
    " - 28, 28 = tamanho da imagem em pixels "
   ]
  },
  {
   "cell_type": "markdown",
   "id": "488a2f29",
   "metadata": {},
   "source": [
    "**Label**"
   ]
  },
  {
   "cell_type": "code",
   "execution_count": 7,
   "id": "5fe6e254",
   "metadata": {
    "ExecuteTime": {
     "end_time": "2021-06-26T19:44:12.350864Z",
     "start_time": "2021-06-26T19:44:12.346511Z"
    }
   },
   "outputs": [
    {
     "name": "stdout",
     "output_type": "stream",
     "text": [
      "labels shape: torch.Size([10])\n",
      "labels: tensor([6, 0, 7, 8, 3, 8, 8, 6, 9, 1])\n"
     ]
    }
   ],
   "source": [
    "print(\"labels shape:\", labels.shape)\n",
    "print(\"labels:\", labels)"
   ]
  },
  {
   "cell_type": "markdown",
   "id": "956e5b2f",
   "metadata": {},
   "source": [
    "Importante entender o formato dos dados (shape) para construção da Rede Neural.\n",
    "\n",
    "- Array - 1 dimensão\n",
    "- Matriz - 2 dimensões\n",
    "- Tensor - 3 ou mais dimensões"
   ]
  },
  {
   "cell_type": "markdown",
   "id": "0099fe19",
   "metadata": {},
   "source": [
    "### Teoria de Rede Neural"
   ]
  },
  {
   "cell_type": "markdown",
   "id": "56b63ec1",
   "metadata": {},
   "source": [
    "#### Rede Neural"
   ]
  },
  {
   "cell_type": "markdown",
   "id": "e3ac819f",
   "metadata": {
    "ExecuteTime": {
     "end_time": "2021-06-26T15:43:24.661574Z",
     "start_time": "2021-06-26T15:43:24.515353Z"
    }
   },
   "source": [
    "![](rede_neural.png)"
   ]
  },
  {
   "cell_type": "markdown",
   "id": "cfa4d702",
   "metadata": {},
   "source": [
    "1- Entrada: Nesse exemplo é um vetor com os valores x1, x2, x3, x4, x5\n",
    "    \n",
    "2 - Cada neuronio x é associado com todos neuronios da camada oculta, onde é aplicada uma função de ativação no resultado da multiplicação entre o neoronio x e a matriz de pesos w.\n",
    "\n",
    "3 - A saída da rede neural é discreta, sendo um resultado da multiplicação do valor resultante do passo anterior com a matriz de pesos matriz de pesos w_k.\n",
    "\n",
    "4 - Resultado da saída é validada com algum dado esperado, calculando-se o erro, e recalculando os pesos da rede. Isso se chama Backpropagation\n",
    "\n",
    "- Cada execução dos passos é uma **época**. Quanto mais épocas, o algoritmo aprende mais. Só temos que tomar cuidado para não causar um overfitting."
   ]
  },
  {
   "cell_type": "markdown",
   "id": "12dc2a15",
   "metadata": {},
   "source": [
    "#### Deep Learning"
   ]
  },
  {
   "cell_type": "markdown",
   "id": "02c738c9",
   "metadata": {},
   "source": [
    "![](deep_learning.png)"
   ]
  },
  {
   "cell_type": "markdown",
   "id": "f6d52bb4",
   "metadata": {},
   "source": [
    "A principal diferença entre uma rede neural e o Deep Learning é a quantidade de camadas ocultas existentes, onde em Deep Learning são criadas diversas camadas ocultas"
   ]
  },
  {
   "cell_type": "markdown",
   "id": "7a2ed08f",
   "metadata": {},
   "source": [
    "#### Funções de Ativação"
   ]
  },
  {
   "cell_type": "markdown",
   "id": "3f1e9abe",
   "metadata": {
    "ExecuteTime": {
     "end_time": "2021-06-26T16:01:03.289560Z",
     "start_time": "2021-06-26T16:01:03.161772Z"
    }
   },
   "source": [
    "![](funcao_ativacao.png)"
   ]
  },
  {
   "cell_type": "markdown",
   "id": "e22aa1f5",
   "metadata": {
    "ExecuteTime": {
     "start_time": "2021-06-26T18:59:31.668Z"
    }
   },
   "source": [
    "Existem diversas funções de ativação e usamos elas para criar uma não linearidade na rede."
   ]
  },
  {
   "cell_type": "markdown",
   "id": "bb930353",
   "metadata": {},
   "source": [
    "#### Saída - Softmax Function"
   ]
  },
  {
   "cell_type": "markdown",
   "id": "fe3a637a",
   "metadata": {},
   "source": [
    "A saída será calculada usando a função softmax que apresentará qual a probabilidade de ser o número apresentado, como na imagem a seguir. "
   ]
  },
  {
   "cell_type": "markdown",
   "id": "9d0e9c1b",
   "metadata": {},
   "source": [
    "- softmax function:\n",
    "![](softmax.png)"
   ]
  },
  {
   "cell_type": "markdown",
   "id": "16b869d1",
   "metadata": {},
   "source": [
    "- Arquitetura utilizada:\n",
    "![](arquitetura.png)"
   ]
  },
  {
   "cell_type": "markdown",
   "id": "ff41649e",
   "metadata": {},
   "source": [
    "#### Representação de um número na matrix de pixels"
   ]
  },
  {
   "cell_type": "markdown",
   "id": "b765dcf4",
   "metadata": {},
   "source": [
    "![](8_pixel.jpeg)"
   ]
  },
  {
   "cell_type": "markdown",
   "id": "da3c18ce",
   "metadata": {},
   "source": [
    "#### Entrada em Vetor - Flatten()"
   ]
  },
  {
   "cell_type": "markdown",
   "id": "e52c0eaf",
   "metadata": {},
   "source": [
    "Como a entrada da Rede espera um vetor, devemos transformar a matriz 28x28, resultante dos pixels da imagem, em um vetor de 784 itens. Para tal, será utilizada a função flatten()."
   ]
  },
  {
   "cell_type": "markdown",
   "id": "18434331",
   "metadata": {
    "ExecuteTime": {
     "end_time": "2021-06-26T16:09:23.374382Z",
     "start_time": "2021-06-26T16:09:23.248822Z"
    }
   },
   "source": [
    "![](flatten.png)"
   ]
  },
  {
   "cell_type": "markdown",
   "id": "c715ae9b",
   "metadata": {},
   "source": [
    "#### Avaliação da Rede Neural - Loss Function"
   ]
  },
  {
   "cell_type": "markdown",
   "id": "a156141c",
   "metadata": {},
   "source": [
    "- O modelo será construído com uma saída log-softmax usando nn.LogSoftmax e depois obtemos as probabilidades reais tomanodo o exponencial torch.exp\n",
    "- Com uma saída log-softmax, podemos calcular a negative log likelihood loss, nn.NLLoss\n",
    "- O NLLLoss será a métrica de avaliação da rede, que será utilizada para atualização dos pesos ao final de cada época"
   ]
  },
  {
   "cell_type": "markdown",
   "id": "7292aa63",
   "metadata": {},
   "source": [
    "- log-softmax\n",
    "![](log_softmax.png)"
   ]
  },
  {
   "cell_type": "markdown",
   "id": "400f60a0",
   "metadata": {
    "ExecuteTime": {
     "end_time": "2021-06-26T19:43:22.943682Z",
     "start_time": "2021-06-26T19:43:22.931951Z"
    }
   },
   "source": [
    "- Negative log likelihood loss (NLLLoss) é muito usado em problemas de classificação.\n",
    " - NLLLoss - https://pytorch.org/docs/stable/generated/torch.nn.NLLLoss.html\n",
    " - Outras loss funciontion - https://pytorch.org/docs/stable/nn.html#loss-functions"
   ]
  },
  {
   "cell_type": "markdown",
   "id": "00a12b01",
   "metadata": {},
   "source": [
    "### Treinando a Rede Neural"
   ]
  },
  {
   "cell_type": "code",
   "execution_count": 8,
   "id": "7af0099d",
   "metadata": {
    "ExecuteTime": {
     "end_time": "2021-06-26T19:44:12.365171Z",
     "start_time": "2021-06-26T19:44:12.354191Z"
    }
   },
   "outputs": [
    {
     "data": {
      "text/plain": [
       "Network(\n",
       "  (hidden_1): Linear(in_features=784, out_features=128, bias=True)\n",
       "  (hidden_2): Linear(in_features=128, out_features=64, bias=True)\n",
       "  (output): Linear(in_features=64, out_features=10, bias=True)\n",
       "  (Relu): ReLU()\n",
       "  (LogSoftmax): LogSoftmax(dim=1)\n",
       ")"
      ]
     },
     "execution_count": 8,
     "metadata": {},
     "output_type": "execute_result"
    }
   ],
   "source": [
    "from torch import nn\n",
    "\n",
    "class Network(nn.Module):\n",
    "    def __init__(self):\n",
    "        super().__init__()\n",
    "        \n",
    "        #inputs da camada escondida (ou hidden layer) - transformacao linear\n",
    "        self.hidden_1 = nn.Linear(784, 128)\n",
    "        self.hidden_2 = nn.Linear(128, 64)\n",
    "        \n",
    "        #camada de saída (ou Output Layer), 10 neurônios ou unidades\n",
    "        #um para cada dígito do dataset (0,1,2,3,4,5,6,7,8,9)\n",
    "        self.output = nn.Linear(64, 10)\n",
    "        \n",
    "        #Define Relu activation e LogSoftmax output\n",
    "        self.Relu = nn.ReLU()\n",
    "        self.LogSoftmax = nn.LogSoftmax(dim=1)\n",
    "        \n",
    "    def forward(self, x):\n",
    "        # Pass o vetor de input em cada uma das nossas operações\n",
    "        x = self.hidden_1(x)\n",
    "        x = self.Relu(x)\n",
    "        \n",
    "        x = self.hidden_2(x)\n",
    "        x = self.Relu(x)\n",
    "        \n",
    "        x = self.output(x)\n",
    "        x = self.LogSoftmax(x)\n",
    "        \n",
    "        return x\n",
    "    \n",
    "modelo = Network()\n",
    "modelo"
   ]
  },
  {
   "cell_type": "code",
   "execution_count": 9,
   "id": "55f0cf33",
   "metadata": {
    "ExecuteTime": {
     "end_time": "2021-06-26T19:44:12.371063Z",
     "start_time": "2021-06-26T19:44:12.367364Z"
    }
   },
   "outputs": [
    {
     "name": "stdout",
     "output_type": "stream",
     "text": [
      "image (shape):  torch.Size([10, 1, 28, 28])\n",
      "images.shape[0]:  10\n",
      "images.view(images.shape[0], -1).shape:  torch.Size([10, 784])\n"
     ]
    }
   ],
   "source": [
    "print(\"image (shape): \", images.shape)\n",
    "print(\"images.shape[0]: \", images.shape[0])\n",
    "print(\"images.view(images.shape[0], -1).shape: \", images.view(images.shape[0], -1).shape)"
   ]
  },
  {
   "cell_type": "code",
   "execution_count": 10,
   "id": "1bd22431",
   "metadata": {
    "ExecuteTime": {
     "end_time": "2021-06-26T19:45:26.940750Z",
     "start_time": "2021-06-26T19:44:12.372713Z"
    }
   },
   "outputs": [
    {
     "name": "stdout",
     "output_type": "stream",
     "text": [
      "Loss Treino: 0.7513085758673648\n",
      "Loss Treino: 0.32016903021667775\n",
      "Loss Treino: 0.2660480275763354\n",
      "Loss Treino: 0.22603834388436128\n",
      "Loss Treino: 0.1947574136503196\n"
     ]
    }
   ],
   "source": [
    "from torch import optim\n",
    "\n",
    "criterion = nn.NLLLoss()\n",
    "#stochastic gradient descendent\n",
    "optimizer = optim.SGD(modelo.parameters(), lr=0.003)\n",
    "\n",
    "epocas = 5\n",
    "for epoca in range(epocas):\n",
    "    loss_ = 0\n",
    "    for images, labels in trainloader:\n",
    "        #Flatten imagem em vetor de 784 elementos\n",
    "        images = images.view(images.shape[0], -1)\n",
    "        \n",
    "        optimizer.zero_grad()\n",
    "        output = modelo.forward(images)\n",
    "        loss = criterion(output, labels)\n",
    "        loss.backward()\n",
    "        optimizer.step()\n",
    "        \n",
    "        loss_ += loss.item()\n",
    "    else:\n",
    "        print(f\"Loss Treino: {loss_/len(trainloader)}\")"
   ]
  },
  {
   "cell_type": "markdown",
   "id": "9d8aadef",
   "metadata": {},
   "source": [
    "### Apresentando Resultado do Modelo"
   ]
  },
  {
   "cell_type": "code",
   "execution_count": 11,
   "id": "6b6f341c",
   "metadata": {
    "ExecuteTime": {
     "end_time": "2021-06-26T19:45:27.228528Z",
     "start_time": "2021-06-26T19:45:26.942813Z"
    }
   },
   "outputs": [
    {
     "data": {
      "image/png": "[encoded data removed]",
      "text/plain": [
       "<Figure size 720x648 with 2 Axes>"
      ]
     },
     "metadata": {
      "needs_background": "light"
     },
     "output_type": "display_data"
    }
   ],
   "source": [
    "images, labels = next(iter(trainloader))\n",
    "\n",
    "#torch.Size([1,784])\n",
    "img = images[0].view(1, 784)\n",
    "\n",
    "#Bloqueia o calculo de gradiente - usado para a avaliação\n",
    "with torch.no_grad():\n",
    "    logs = modelo(img)\n",
    "    \n",
    "#Output of the network are log-probabilities, need to take exponential for probabilities\n",
    "p = torch.exp(logs)\n",
    "p = p.data.numpy().squeeze()\n",
    "\n",
    "fig, (ax1, ax2) = plt.subplots(figsize=(10,9), ncols=2)\n",
    "ax1.imshow(img.resize_(1, 28, 28).numpy().squeeze())\n",
    "ax1.axis(\"off\")\n",
    "\n",
    "ax2.barh(np.arange(10),p)\n",
    "ax2.set_aspect(0.1)\n",
    "ax2.set_yticks(np.arange(10))\n",
    "\n",
    "ax2.set_yticklabels(np.arange(10))\n",
    "\n",
    "ax2.set_title(\"Probabilidade\")\n",
    "ax2.set_xlim(0, 1.1)\n",
    "\n",
    "plt.tight_layout()"
   ]
  },
  {
   "cell_type": "markdown",
   "id": "bfdff043",
   "metadata": {},
   "source": [
    "### Outra forma de treinar - nn.Sequential"
   ]
  },
  {
   "cell_type": "code",
   "execution_count": 12,
   "id": "5d9df1de",
   "metadata": {
    "ExecuteTime": {
     "end_time": "2021-06-26T19:45:27.236280Z",
     "start_time": "2021-06-26T19:45:27.231346Z"
    }
   },
   "outputs": [],
   "source": [
    "model  = nn.Sequential(nn.Linear(784, 128),\n",
    "                      nn.ReLU(),\n",
    "                      nn.Linear(128, 64),\n",
    "                      nn.ReLU(),\n",
    "                      nn.Linear(64, 10),\n",
    "                      nn.LogSoftmax(dim=1))"
   ]
  },
  {
   "cell_type": "code",
   "execution_count": 13,
   "id": "955e0ba3",
   "metadata": {
    "ExecuteTime": {
     "end_time": "2021-06-26T19:46:47.819728Z",
     "start_time": "2021-06-26T19:45:27.238529Z"
    }
   },
   "outputs": [
    {
     "name": "stdout",
     "output_type": "stream",
     "text": [
      "Loss Treino: 0.17140985460521188\n",
      "Loss Treino: 0.1527549605133245\n",
      "Loss Treino: 0.13753877316801422\n",
      "Loss Treino: 0.12519014907022938\n",
      "Loss Treino: 0.1145050063947565\n"
     ]
    }
   ],
   "source": [
    "criterion = nn.NLLLoss()\n",
    "#stochastic gradient descendent\n",
    "optimizer = optim.SGD(modelo.parameters(), lr=0.003)\n",
    "\n",
    "epocas = 5\n",
    "for epoca in range(epocas):\n",
    "    loss_ = 0\n",
    "    for images, labels in trainloader:\n",
    "        #Flatten imagem em vetor de 784 elementos\n",
    "        images = images.view(images.shape[0], -1)\n",
    "        \n",
    "        #Quando temos iterações de backpropagations com os mesmos parâmetros,\n",
    "        #os gradientes são acumulados. Por isso, precisamos zerar os gradientes\n",
    "        #em cada passagem de treinamento ou você manterá os gradientes das \n",
    "        #batches de treinamento anteriores\n",
    "        optimizer.zero_grad()\n",
    "        \n",
    "        output = modelo.forward(images)\n",
    "        loss = criterion(output, labels)\n",
    "        loss.backward()\n",
    "        optimizer.step()\n",
    "        \n",
    "        loss_ += loss.item()\n",
    "    else:\n",
    "        print(f\"Loss Treino: {loss_/len(trainloader)}\")"
   ]
  },
  {
   "cell_type": "code",
   "execution_count": 14,
   "id": "be322cd8",
   "metadata": {
    "ExecuteTime": {
     "end_time": "2021-06-26T19:46:48.083932Z",
     "start_time": "2021-06-26T19:46:47.821422Z"
    }
   },
   "outputs": [
    {
     "data": {
      "image/png": "[encoded data removed]",
      "text/plain": [
       "<Figure size 432x648 with 2 Axes>"
      ]
     },
     "metadata": {
      "needs_background": "light"
     },
     "output_type": "display_data"
    }
   ],
   "source": [
    "def show_classes(image, ps):\n",
    "    ps = ps.data.numpy().squeeze()\n",
    "\n",
    "    fig, (ax1, ax2) = plt.subplots(figsize=(6,9), ncols=2)\n",
    "    ax1.imshow(img.resize_(1, 28, 28).numpy().squeeze())\n",
    "    ax1.axis(\"off\")\n",
    "\n",
    "    ax2.barh(np.arange(10),ps)\n",
    "    ax2.set_aspect(0.1)\n",
    "    ax2.set_yticks(np.arange(10))\n",
    "\n",
    "    ax2.set_yticklabels(np.arange(10))\n",
    "\n",
    "    ax2.set_title(\"Probabilidade\")\n",
    "    ax2.set_xlim(0, 1.1)\n",
    "\n",
    "    plt.tight_layout()\n",
    "\n",
    "image, labels = next(iter(trainloader))\n",
    "\n",
    "image = images[0].view(1, 784)\n",
    "\n",
    "with torch.no_grad():\n",
    "    logs = model(image)\n",
    "    \n",
    "p = torch.exp(logs)\n",
    "\n",
    "show_classes(image, p)"
   ]
  }
 ],
 "metadata": {
  "kernelspec": {
   "display_name": "Python 3",
   "language": "python",
   "name": "python3"
  },
  "language_info": {
   "codemirror_mode": {
    "name": "ipython",
    "version": 3
   },
   "file_extension": ".py",
   "mimetype": "text/x-python",
   "name": "python",
   "nbconvert_exporter": "python",
   "pygments_lexer": "ipython3",
   "version": "3.8.5"
  },
  "varInspector": {
   "cols": {
    "lenName": 16,
    "lenType": 16,
    "lenVar": 40
   },
   "kernels_config": {
    "python": {
     "delete_cmd_postfix": "",
     "delete_cmd_prefix": "del ",
     "library": "var_list.py",
     "varRefreshCmd": "print(var_dic_list())"
    },
    "r": {
     "delete_cmd_postfix": ") ",
     "delete_cmd_prefix": "rm(",
     "library": "var_list.r",
     "varRefreshCmd": "cat(var_dic_list()) "
    }
   },
   "types_to_exclude": [
    "module",
    "function",
    "builtin_function_or_method",
    "instance",
    "_Feature"
   ],
   "window_display": false
  }
 },
 "nbformat": 4,
 "nbformat_minor": 5
}
